{
  "cells": [
    {
      "cell_type": "code",
      "execution_count": 16,
      "metadata": {
        "id": "uF_0Bfg8qyOf"
      },
      "outputs": [],
      "source": [
        "#'##########################################################\n",
        "#\t  \t MODEL SELECTION\n",
        "#'##########################################################\n",
        "\n",
        "set.seed(1)\n",
        "\n",
        "rm(list=ls())\n",
        "\n",
        "# Define necessary packages\n",
        "need_pkgs <- c(\"tidyverse\", \"plotMCMC\", \"mcmcr\", \"MuMIn\", \"MCMCglmm\",\"MuMIn\")\n",
        "\n",
        "exist_pckgs<-exist_pckgs <- installed.packages()[, \"Package\"]\n",
        "\n",
        "if (any(!need_pkgs %in% exist_pckgs)) {   # Check for inexisting packages and install them\n",
        "  install.packages(need_pkgs[!need_pkgs %in% exist_pckgs])\n",
        "}\n"
      ]
    },
    {
      "cell_type": "code",
      "execution_count": 17,
      "metadata": {
        "colab": {
          "base_uri": "https://localhost:8080/",
          "height": 149
        },
        "id": "Gbh3okfFrtkl",
        "outputId": "fb1b1fa2-d92b-4ea5-9328-02e1da11129f"
      },
      "outputs": [
        {
          "data": {
            "text/html": [
              "<ol>\n",
              "\t<li>TRUE</li>\n",
              "\t<li>TRUE</li>\n",
              "\t<li>TRUE</li>\n",
              "\t<li>TRUE</li>\n",
              "\t<li>TRUE</li>\n",
              "\t<li>TRUE</li>\n",
              "</ol>\n"
            ],
            "text/latex": [
              "\\begin{enumerate}\n",
              "\\item TRUE\n",
              "\\item TRUE\n",
              "\\item TRUE\n",
              "\\item TRUE\n",
              "\\item TRUE\n",
              "\\item TRUE\n",
              "\\end{enumerate}\n"
            ],
            "text/markdown": [
              "1. TRUE\n",
              "2. TRUE\n",
              "3. TRUE\n",
              "4. TRUE\n",
              "5. TRUE\n",
              "6. TRUE\n",
              "\n",
              "\n"
            ],
            "text/plain": [
              "[[1]]\n",
              "[1] TRUE\n",
              "\n",
              "[[2]]\n",
              "[1] TRUE\n",
              "\n",
              "[[3]]\n",
              "[1] TRUE\n",
              "\n",
              "[[4]]\n",
              "[1] TRUE\n",
              "\n",
              "[[5]]\n",
              "[1] TRUE\n",
              "\n",
              "[[6]]\n",
              "[1] TRUE\n"
            ]
          },
          "metadata": {},
          "output_type": "display_data"
        }
      ],
      "source": [
        "# load non-existing packages\n",
        "lapply(need_pkgs, require, character.only = TRUE)\n",
        "\n",
        "rm(list=ls())"
      ]
    },
    {
      "cell_type": "code",
      "execution_count": 18,
      "metadata": {
        "colab": {
          "base_uri": "https://localhost:8080/"
        },
        "id": "DndxY6GDq0-h",
        "outputId": "0f1273f8-952d-4f9f-fded-b7ee03260158"
      },
      "outputs": [
        {
          "name": "stdout",
          "output_type": "stream",
          "text": [
            "Rows: 134\n",
            "Columns: 25\n",
            "$ ID                   \u001b[3m\u001b[90m<chr>\u001b[39m\u001b[23m \"Urs2.183_726\", \"Flcn.170_257\", \"Lgps.394_383\", \"…\n",
            "$ Reproduction_SigElas \u001b[3m\u001b[90m<dbl>\u001b[39m\u001b[23m 1.364528e-04, -1.938652e-03, -2.377753e-02, -1.02…\n",
            "$ Growth_SigElas       \u001b[3m\u001b[90m<dbl>\u001b[39m\u001b[23m 7.525562e-04, 0.000000e+00, 0.000000e+00, 0.00000…\n",
            "$ Shrinking_SigElas    \u001b[3m\u001b[90m<dbl>\u001b[39m\u001b[23m 4.928246e-04, 0.000000e+00, 0.000000e+00, 0.00000…\n",
            "$ Clonality_SigElas    \u001b[3m\u001b[90m<dbl>\u001b[39m\u001b[23m 0, 0, 0, 0, 0, 0, 0, 0, 0, 0, 0, 0, 0, 0, 0, 0, 0…\n",
            "$ Survival_SigElas     \u001b[3m\u001b[90m<dbl>\u001b[39m\u001b[23m -1.692481e-02, -7.611464e-03, -8.279373e-02, -9.8…\n",
            "$ Cumulative_SigElas   \u001b[3m\u001b[90m<dbl>\u001b[39m\u001b[23m 0.0155429721, 0.0095501157, 0.1065712526, 0.10840…\n",
            "$ Buffmx               \u001b[3m\u001b[90m<dbl>\u001b[39m\u001b[23m 1.0205700, 1.0084916, 1.1488676, 1.1131551, 1.017…\n",
            "$ MatRep               \u001b[3m\u001b[90m<int>\u001b[39m\u001b[23m 5, 5, 5, 6, 5, 3, 3, 4, 9, 11, 3, 3, 4, 4, 53, 4,…\n",
            "$ LHPC.1               \u001b[3m\u001b[90m<dbl>\u001b[39m\u001b[23m 4.0555225, -2.9624200, -3.5976811, 1.6025393, 1.0…\n",
            "$ LHPC.2               \u001b[3m\u001b[90m<dbl>\u001b[39m\u001b[23m -0.69666310, -0.12995466, 0.73974502, -0.61097725…\n",
            "$ ClimPC.1             \u001b[3m\u001b[90m<dbl>\u001b[39m\u001b[23m 3.3882768, -0.2612499, 0.1603933, 0.1603933, -0.5…\n",
            "$ ClimPC.2             \u001b[3m\u001b[90m<dbl>\u001b[39m\u001b[23m 0.49804850, 2.44691133, 2.66836759, 2.66836759, 0…\n",
            "$ ClimPC.3             \u001b[3m\u001b[90m<dbl>\u001b[39m\u001b[23m -2.79206556, 0.98342288, -9.83423801, -9.83423801…\n",
            "$ SpeciesAccepted      \u001b[3m\u001b[90m<chr>\u001b[39m\u001b[23m \"Ursus maritimus\", \"Falco naumanni\", \"Lagopus leu…\n",
            "$ Kingdom              \u001b[3m\u001b[90m<chr>\u001b[39m\u001b[23m \"Animalia\", \"Animalia\", \"Animalia\", \"Animalia\", \"…\n",
            "$ Phylum               \u001b[3m\u001b[90m<chr>\u001b[39m\u001b[23m \"Chordata\", \"Chordata\", \"Chordata\", \"Chordata\", \"…\n",
            "$ Class                \u001b[3m\u001b[90m<chr>\u001b[39m\u001b[23m \"Mammalia\", \"Aves\", \"Aves\", \"Aves\", \"Reptilia\", \"…\n",
            "$ Order                \u001b[3m\u001b[90m<chr>\u001b[39m\u001b[23m \"Carnivora\", \"Falconiformes\", \"Galliformes\", \"Gal…\n",
            "$ OrganismType         \u001b[3m\u001b[90m<chr>\u001b[39m\u001b[23m \"Mammalia\", \"Aves\", \"Aves\", \"Aves\", \"Reptilia\", \"…\n",
            "$ AngioGymno           \u001b[3m\u001b[90m<chr>\u001b[39m\u001b[23m \u001b[31mNA\u001b[39m, \u001b[31mNA\u001b[39m, \u001b[31mNA\u001b[39m, \u001b[31mNA\u001b[39m, \u001b[31mNA\u001b[39m, \u001b[31mNA\u001b[39m, \u001b[31mNA\u001b[39m, \u001b[31mNA\u001b[39m, \u001b[31mNA\u001b[39m, \u001b[31mNA\u001b[39m, \u001b[31mNA\u001b[39m, \u001b[31mNA\u001b[39m, \u001b[31mN\u001b[39m…\n",
            "$ lambda               \u001b[3m\u001b[90m<dbl>\u001b[39m\u001b[23m 1.0590883, 1.3078824, 1.7937087, 1.1555296, 1.060…\n",
            "$ Ecoregion            \u001b[3m\u001b[90m<chr>\u001b[39m\u001b[23m \"POE\", \"MED\", \"TUN\", \"TUN\", \"TSC\", \"TMB\", \"TMB\", …\n",
            "$ Binomial             \u001b[3m\u001b[90m<chr>\u001b[39m\u001b[23m \"Ursus_maritimus\", \"Falco_naumanni\", \"Lagopus_leu…\n",
            "$ phylo                \u001b[3m\u001b[90m<chr>\u001b[39m\u001b[23m \"Ursus_maritimus\", \"Falco_naumanni\", \"Lagopus_leu…\n"
          ]
        }
      ],
      "source": [
        "\n",
        "#'===========================================================\n",
        "# ----- LOAD data ready for GLMM analyses ----\n",
        "# GLMM data contains:\n",
        "#  - Data model\n",
        "#  - subtree_Animals - Phylogenetic tree for Animals ready for analysis\n",
        "#  - subtree_Animals - Phylogenetic tree for Plants ready for analysis\n",
        "#'===========================================================\n",
        "# Download data In Google colab\n",
        "dir.create(file.path(\"Data\"), showWarnings = FALSE) # Will return warning message if folder already exists\n",
        "GLMMdata_link<-\"https://github.com/Ecosantos/Demogbuff-pops/raw/refs/heads/incorporating-MCMCGlmm/Data/GLMMdata.Rdata\"\n",
        "download.file(GLMMdata_link, \"Data/GLMMdata.Rdata\", mode = \"wb\")\n",
        "\n",
        "\n",
        "load(\"Data/GLMMdata.Rdata\")\n",
        "\n",
        "data_model%>%glimpse()\n"
      ]
    },
    {
      "cell_type": "code",
      "execution_count": 19,
      "metadata": {
        "colab": {
          "base_uri": "https://localhost:8080/"
        },
        "id": "2q-mh6jbqpd9",
        "outputId": "3afa47ce-634b-4dbf-91ad-c6ac28f77c0a"
      },
      "outputs": [
        {
          "name": "stdout",
          "output_type": "stream",
          "text": [
            "[1] \"Clim12_allint - OK\"\n",
            "[1] \"Clim12_allint - OK\"\n",
            "[1] \"Clim123 - OK\"\n",
            "[1] \"Clim12 - OK\"\n",
            "[1] \"Clim13 - OK\"\n",
            "[1] \"Clim23 - OK\"\n",
            "[1] \"Clim123_plus - OK\"\n",
            "[1] \"Clim12_plus - OK\"\n",
            "[1] \"Clim12 plus_only - OK\"\n",
            "[1] \"Clim1 - OK\"\n",
            "[1] \"Clim2 - OK\"\n",
            "[1] \"Clim3 - OK\"\n",
            "[1] \"all_NULL - OK\"\n",
            "[1] \"Clim_NULL - OK\"\n"
          ]
        }
      ],
      "source": [
        "\n",
        "\n",
        "#'===========================================================\n",
        "# ---- Define priors ----\n",
        "#'===========================================================\n",
        "\n",
        "\n",
        "prior_phylo<-list(G=list(G1=list(V=1,nu=0.02)),\n",
        "                  R=list(V=1,nu=0.02))\n",
        "\n",
        "# Prior for simple model will be removed.\n",
        "# It will run with prior_phylo for standardization!\n",
        "#prior_simple<-list(G=list(R=list(V=1,nu=0.02)))\n",
        "\n",
        "nitt=100000; #nitt=1000\n",
        "burnin=1000; #burnin=100\n",
        "thin=10\n",
        "\n",
        "glmmScale<-\"FALSE\"\n",
        "\n",
        "#'===========================================================\n",
        "# ---- Create models manually ----\n",
        "#'===========================================================\n",
        "# A function was created to reduce code\n",
        "fit_mcmcglmm <- function(formula) {\n",
        "  MCMCglmm(\n",
        "    formula,\n",
        "    random = ~phylo,\n",
        "    family = \"gaussian\",\n",
        "    ginverse = list(phylo = inverseA(subtree_Plants, nodes = \"TIPS\", scale = TRUE)$Ainv),\n",
        "    prior = prior_phylo,\n",
        "    data = subset(data_model, Kingdom == \"Plantae\"),\n",
        "    nitt = nitt,\n",
        "    burnin = burnin,\n",
        "    thin = thin,\n",
        "    singular.ok = TRUE,\n",
        "    scale = glmmScale,\n",
        "    verbose=FALSE\n",
        "  )\n",
        "}\n",
        "\n",
        "\n",
        "# Models all interactions\n",
        "Clim123_allint <- fit_mcmcglmm(Cumulative_SigElas ~ LHPC.1 * LHPC.2 * ClimPC.1 * ClimPC.2 * ClimPC.3);print(\"Clim12_allint - OK\")\n",
        "Clim12_allint <- fit_mcmcglmm(Cumulative_SigElas ~ LHPC.1 * LHPC.2 * ClimPC.1 * ClimPC.2);print(\"Clim12_allint - OK\")\n",
        "\n",
        "# Models with interactions\n",
        "Clim123 <- fit_mcmcglmm(Cumulative_SigElas ~ LHPC.1 * LHPC.2 + ClimPC.1 * ClimPC.2 * ClimPC.3);print(\"Clim123 - OK\")\n",
        "Clim12 <- fit_mcmcglmm(Cumulative_SigElas ~ LHPC.1 * LHPC.2 + ClimPC.1 * ClimPC.2);print(\"Clim12 - OK\")\n",
        "Clim13 <- fit_mcmcglmm(Cumulative_SigElas ~ LHPC.1 * LHPC.2 + ClimPC.1 * ClimPC.3);print(\"Clim13 - OK\")\n",
        "Clim23 <- fit_mcmcglmm(Cumulative_SigElas ~ LHPC.1 * LHPC.2 + ClimPC.2 * ClimPC.3);print(\"Clim23 - OK\")\n",
        "\n",
        "#Aditive models\n",
        "Clim123_plus<-fit_mcmcglmm(Cumulative_SigElas~LHPC.1 * LHPC.2 + ClimPC.1 + ClimPC.2 + ClimPC.3);print(\"Clim123_plus - OK\")\n",
        "Clim12_plus<-fit_mcmcglmm(Cumulative_SigElas~LHPC.1 * LHPC.2 + ClimPC.1 + ClimPC.2);print(\"Clim12_plus - OK\")\n",
        "\n",
        "# Aditive for life history and climatic data\n",
        "Clim12_plus_only<-fit_mcmcglmm(Cumulative_SigElas~LHPC.1 + LHPC.2 + ClimPC.1 + ClimPC.2);print(\"Clim12 plus_only - OK\")\n",
        "\n",
        "# Models with single climatic variable\n",
        "Clim1 <- fit_mcmcglmm(Cumulative_SigElas ~ LHPC.1 * LHPC.2 + ClimPC.1);print(\"Clim1 - OK\")\n",
        "Clim2 <- fit_mcmcglmm(Cumulative_SigElas ~ LHPC.1 * LHPC.2 + ClimPC.2);print(\"Clim2 - OK\")\n",
        "Clim3 <- fit_mcmcglmm(Cumulative_SigElas ~ LHPC.1 * LHPC.2 + ClimPC.3);print(\"Clim3 - OK\")\n",
        "\n",
        "# Null model\n",
        "All_null <- fit_mcmcglmm(Cumulative_SigElas ~ 1 );print(\"all_NULL - OK\")\n",
        "Clim_null <- fit_mcmcglmm(Cumulative_SigElas ~ LHPC.1 * LHPC.2 );print(\"Clim_NULL - OK\")\n",
        "\n",
        "\n"
      ]
    },
    {
      "cell_type": "code",
      "execution_count": 20,
      "metadata": {
        "colab": {
          "base_uri": "https://localhost:8080/",
          "height": 1000
        },
        "id": "mwrOtV-n6imb",
        "outputId": "734a3536-eff4-4979-be8c-9704c151070a"
      },
      "outputs": [
        {
          "data": {
            "text/html": [
              "<table class=\"dataframe\">\n",
              "<caption>A data.frame: 14 × 5</caption>\n",
              "<thead>\n",
              "\t<tr><th></th><th scope=col>formulas</th><th scope=col>df</th><th scope=col>BIC</th><th scope=col>AIC</th><th scope=col>DIC</th></tr>\n",
              "\t<tr><th></th><th scope=col>&lt;chr&gt;</th><th scope=col>&lt;dbl&gt;</th><th scope=col>&lt;dbl&gt;</th><th scope=col>&lt;dbl&gt;</th><th scope=col>&lt;dbl&gt;</th></tr>\n",
              "</thead>\n",
              "<tbody>\n",
              "\t<tr><th scope=row>Clim12</th><td>Cumulative_SigElas ~ LHPC.1 * LHPC.2 + ClimPC.1 * ClimPC.2               </td><td> 9</td><td>-387.7937</td><td>-412.9558</td><td>-400.7529</td></tr>\n",
              "\t<tr><th scope=row>Clim123</th><td>Cumulative_SigElas ~ LHPC.1 * LHPC.2 + ClimPC.1 * ClimPC.2 *     ClimPC.3</td><td>13</td><td>-371.5513</td><td>-407.8966</td><td>-396.5775</td></tr>\n",
              "\t<tr><th scope=row>All_null</th><td>Cumulative_SigElas ~ 1                                                   </td><td> 3</td><td>-376.2432</td><td>-384.6306</td><td>-384.2591</td></tr>\n",
              "\t<tr><th scope=row>Clim3</th><td>Cumulative_SigElas ~ LHPC.1 * LHPC.2 + ClimPC.3                          </td><td> 7</td><td>-412.7078</td><td>-432.2783</td><td>-379.2992</td></tr>\n",
              "\t<tr><th scope=row>Clim2</th><td>Cumulative_SigElas ~ LHPC.1 * LHPC.2 + ClimPC.2                          </td><td> 7</td><td>-421.5310</td><td>-441.1015</td><td>-376.4730</td></tr>\n",
              "\t<tr><th scope=row>Clim23</th><td>Cumulative_SigElas ~ LHPC.1 * LHPC.2 + ClimPC.2 * ClimPC.3               </td><td> 9</td><td>-416.1847</td><td>-441.3468</td><td>-376.4730</td></tr>\n",
              "\t<tr><th scope=row>Clim12_plus_only</th><td>Cumulative_SigElas ~ LHPC.1 + LHPC.2 + ClimPC.1 + ClimPC.2               </td><td> 7</td><td>-420.8719</td><td>-440.4424</td><td>-376.1849</td></tr>\n",
              "\t<tr><th scope=row>Clim12_plus</th><td>Cumulative_SigElas ~ LHPC.1 * LHPC.2 + ClimPC.1 + ClimPC.2               </td><td> 8</td><td>-413.9262</td><td>-436.2925</td><td>-373.1743</td></tr>\n",
              "\t<tr><th scope=row>Clim123_plus</th><td>Cumulative_SigElas ~ LHPC.1 * LHPC.2 + ClimPC.1 + ClimPC.2 +     ClimPC.3</td><td> 9</td><td>-409.0676</td><td>-434.2297</td><td>-372.6623</td></tr>\n",
              "\t<tr><th scope=row>Clim13</th><td>Cumulative_SigElas ~ LHPC.1 * LHPC.2 + ClimPC.1 * ClimPC.3               </td><td> 9</td><td>-400.8070</td><td>-425.9691</td><td>-364.3317</td></tr>\n",
              "\t<tr><th scope=row>Clim_null</th><td>Cumulative_SigElas ~ LHPC.1 * LHPC.2                                     </td><td> 6</td><td>-381.0426</td><td>-397.8173</td><td>-342.2609</td></tr>\n",
              "\t<tr><th scope=row>Clim1</th><td>Cumulative_SigElas ~ LHPC.1 * LHPC.2 + ClimPC.1                          </td><td> 7</td><td>-384.4905</td><td>-404.0610</td><td>-340.1330</td></tr>\n",
              "\t<tr><th scope=row>Clim123_allint</th><td>Cumulative_SigElas ~ LHPC.1 * LHPC.2 * ClimPC.1 * ClimPC.2 *     ClimPC.3</td><td>34</td><td>-251.4289</td><td>-346.4858</td><td>-331.3077</td></tr>\n",
              "\t<tr><th scope=row>Clim12_allint</th><td>Cumulative_SigElas ~ LHPC.1 * LHPC.2 * ClimPC.1 * ClimPC.2 *     ClimPC.3</td><td>18</td><td>-241.4480</td><td>-291.7722</td><td>-257.7108</td></tr>\n",
              "</tbody>\n",
              "</table>\n"
            ],
            "text/latex": [
              "A data.frame: 14 × 5\n",
              "\\begin{tabular}{r|lllll}\n",
              "  & formulas & df & BIC & AIC & DIC\\\\\n",
              "  & <chr> & <dbl> & <dbl> & <dbl> & <dbl>\\\\\n",
              "\\hline\n",
              "\tClim12 & Cumulative\\_SigElas \\textasciitilde{} LHPC.1 * LHPC.2 + ClimPC.1 * ClimPC.2                &  9 & -387.7937 & -412.9558 & -400.7529\\\\\n",
              "\tClim123 & Cumulative\\_SigElas \\textasciitilde{} LHPC.1 * LHPC.2 + ClimPC.1 * ClimPC.2 *     ClimPC.3 & 13 & -371.5513 & -407.8966 & -396.5775\\\\\n",
              "\tAll\\_null & Cumulative\\_SigElas \\textasciitilde{} 1                                                    &  3 & -376.2432 & -384.6306 & -384.2591\\\\\n",
              "\tClim3 & Cumulative\\_SigElas \\textasciitilde{} LHPC.1 * LHPC.2 + ClimPC.3                           &  7 & -412.7078 & -432.2783 & -379.2992\\\\\n",
              "\tClim2 & Cumulative\\_SigElas \\textasciitilde{} LHPC.1 * LHPC.2 + ClimPC.2                           &  7 & -421.5310 & -441.1015 & -376.4730\\\\\n",
              "\tClim23 & Cumulative\\_SigElas \\textasciitilde{} LHPC.1 * LHPC.2 + ClimPC.2 * ClimPC.3                &  9 & -416.1847 & -441.3468 & -376.4730\\\\\n",
              "\tClim12\\_plus\\_only & Cumulative\\_SigElas \\textasciitilde{} LHPC.1 + LHPC.2 + ClimPC.1 + ClimPC.2                &  7 & -420.8719 & -440.4424 & -376.1849\\\\\n",
              "\tClim12\\_plus & Cumulative\\_SigElas \\textasciitilde{} LHPC.1 * LHPC.2 + ClimPC.1 + ClimPC.2                &  8 & -413.9262 & -436.2925 & -373.1743\\\\\n",
              "\tClim123\\_plus & Cumulative\\_SigElas \\textasciitilde{} LHPC.1 * LHPC.2 + ClimPC.1 + ClimPC.2 +     ClimPC.3 &  9 & -409.0676 & -434.2297 & -372.6623\\\\\n",
              "\tClim13 & Cumulative\\_SigElas \\textasciitilde{} LHPC.1 * LHPC.2 + ClimPC.1 * ClimPC.3                &  9 & -400.8070 & -425.9691 & -364.3317\\\\\n",
              "\tClim\\_null & Cumulative\\_SigElas \\textasciitilde{} LHPC.1 * LHPC.2                                      &  6 & -381.0426 & -397.8173 & -342.2609\\\\\n",
              "\tClim1 & Cumulative\\_SigElas \\textasciitilde{} LHPC.1 * LHPC.2 + ClimPC.1                           &  7 & -384.4905 & -404.0610 & -340.1330\\\\\n",
              "\tClim123\\_allint & Cumulative\\_SigElas \\textasciitilde{} LHPC.1 * LHPC.2 * ClimPC.1 * ClimPC.2 *     ClimPC.3 & 34 & -251.4289 & -346.4858 & -331.3077\\\\\n",
              "\tClim12\\_allint & Cumulative\\_SigElas \\textasciitilde{} LHPC.1 * LHPC.2 * ClimPC.1 * ClimPC.2 *     ClimPC.3 & 18 & -241.4480 & -291.7722 & -257.7108\\\\\n",
              "\\end{tabular}\n"
            ],
            "text/markdown": [
              "\n",
              "A data.frame: 14 × 5\n",
              "\n",
              "| <!--/--> | formulas &lt;chr&gt; | df &lt;dbl&gt; | BIC &lt;dbl&gt; | AIC &lt;dbl&gt; | DIC &lt;dbl&gt; |\n",
              "|---|---|---|---|---|---|\n",
              "| Clim12 | Cumulative_SigElas ~ LHPC.1 * LHPC.2 + ClimPC.1 * ClimPC.2                |  9 | -387.7937 | -412.9558 | -400.7529 |\n",
              "| Clim123 | Cumulative_SigElas ~ LHPC.1 * LHPC.2 + ClimPC.1 * ClimPC.2 *     ClimPC.3 | 13 | -371.5513 | -407.8966 | -396.5775 |\n",
              "| All_null | Cumulative_SigElas ~ 1                                                    |  3 | -376.2432 | -384.6306 | -384.2591 |\n",
              "| Clim3 | Cumulative_SigElas ~ LHPC.1 * LHPC.2 + ClimPC.3                           |  7 | -412.7078 | -432.2783 | -379.2992 |\n",
              "| Clim2 | Cumulative_SigElas ~ LHPC.1 * LHPC.2 + ClimPC.2                           |  7 | -421.5310 | -441.1015 | -376.4730 |\n",
              "| Clim23 | Cumulative_SigElas ~ LHPC.1 * LHPC.2 + ClimPC.2 * ClimPC.3                |  9 | -416.1847 | -441.3468 | -376.4730 |\n",
              "| Clim12_plus_only | Cumulative_SigElas ~ LHPC.1 + LHPC.2 + ClimPC.1 + ClimPC.2                |  7 | -420.8719 | -440.4424 | -376.1849 |\n",
              "| Clim12_plus | Cumulative_SigElas ~ LHPC.1 * LHPC.2 + ClimPC.1 + ClimPC.2                |  8 | -413.9262 | -436.2925 | -373.1743 |\n",
              "| Clim123_plus | Cumulative_SigElas ~ LHPC.1 * LHPC.2 + ClimPC.1 + ClimPC.2 +     ClimPC.3 |  9 | -409.0676 | -434.2297 | -372.6623 |\n",
              "| Clim13 | Cumulative_SigElas ~ LHPC.1 * LHPC.2 + ClimPC.1 * ClimPC.3                |  9 | -400.8070 | -425.9691 | -364.3317 |\n",
              "| Clim_null | Cumulative_SigElas ~ LHPC.1 * LHPC.2                                      |  6 | -381.0426 | -397.8173 | -342.2609 |\n",
              "| Clim1 | Cumulative_SigElas ~ LHPC.1 * LHPC.2 + ClimPC.1                           |  7 | -384.4905 | -404.0610 | -340.1330 |\n",
              "| Clim123_allint | Cumulative_SigElas ~ LHPC.1 * LHPC.2 * ClimPC.1 * ClimPC.2 *     ClimPC.3 | 34 | -251.4289 | -346.4858 | -331.3077 |\n",
              "| Clim12_allint | Cumulative_SigElas ~ LHPC.1 * LHPC.2 * ClimPC.1 * ClimPC.2 *     ClimPC.3 | 18 | -241.4480 | -291.7722 | -257.7108 |\n",
              "\n"
            ],
            "text/plain": [
              "                 formulas                                                                 \n",
              "Clim12           Cumulative_SigElas ~ LHPC.1 * LHPC.2 + ClimPC.1 * ClimPC.2               \n",
              "Clim123          Cumulative_SigElas ~ LHPC.1 * LHPC.2 + ClimPC.1 * ClimPC.2 *     ClimPC.3\n",
              "All_null         Cumulative_SigElas ~ 1                                                   \n",
              "Clim3            Cumulative_SigElas ~ LHPC.1 * LHPC.2 + ClimPC.3                          \n",
              "Clim2            Cumulative_SigElas ~ LHPC.1 * LHPC.2 + ClimPC.2                          \n",
              "Clim23           Cumulative_SigElas ~ LHPC.1 * LHPC.2 + ClimPC.2 * ClimPC.3               \n",
              "Clim12_plus_only Cumulative_SigElas ~ LHPC.1 + LHPC.2 + ClimPC.1 + ClimPC.2               \n",
              "Clim12_plus      Cumulative_SigElas ~ LHPC.1 * LHPC.2 + ClimPC.1 + ClimPC.2               \n",
              "Clim123_plus     Cumulative_SigElas ~ LHPC.1 * LHPC.2 + ClimPC.1 + ClimPC.2 +     ClimPC.3\n",
              "Clim13           Cumulative_SigElas ~ LHPC.1 * LHPC.2 + ClimPC.1 * ClimPC.3               \n",
              "Clim_null        Cumulative_SigElas ~ LHPC.1 * LHPC.2                                     \n",
              "Clim1            Cumulative_SigElas ~ LHPC.1 * LHPC.2 + ClimPC.1                          \n",
              "Clim123_allint   Cumulative_SigElas ~ LHPC.1 * LHPC.2 * ClimPC.1 * ClimPC.2 *     ClimPC.3\n",
              "Clim12_allint    Cumulative_SigElas ~ LHPC.1 * LHPC.2 * ClimPC.1 * ClimPC.2 *     ClimPC.3\n",
              "                 df BIC       AIC       DIC      \n",
              "Clim12            9 -387.7937 -412.9558 -400.7529\n",
              "Clim123          13 -371.5513 -407.8966 -396.5775\n",
              "All_null          3 -376.2432 -384.6306 -384.2591\n",
              "Clim3             7 -412.7078 -432.2783 -379.2992\n",
              "Clim2             7 -421.5310 -441.1015 -376.4730\n",
              "Clim23            9 -416.1847 -441.3468 -376.4730\n",
              "Clim12_plus_only  7 -420.8719 -440.4424 -376.1849\n",
              "Clim12_plus       8 -413.9262 -436.2925 -373.1743\n",
              "Clim123_plus      9 -409.0676 -434.2297 -372.6623\n",
              "Clim13            9 -400.8070 -425.9691 -364.3317\n",
              "Clim_null         6 -381.0426 -397.8173 -342.2609\n",
              "Clim1             7 -384.4905 -404.0610 -340.1330\n",
              "Clim123_allint   34 -251.4289 -346.4858 -331.3077\n",
              "Clim12_allint    18 -241.4480 -291.7722 -257.7108"
            ]
          },
          "metadata": {},
          "output_type": "display_data"
        },
        {
          "data": {
            "text/plain": [
              "\n",
              " Iterations = 1001:99991\n",
              " Thinning interval  = 10\n",
              " Sample size  = 9900 \n",
              "\n",
              " DIC: -400.7529 \n",
              "\n",
              " G-structure:  ~phylo\n",
              "\n",
              "      post.mean l-95% CI u-95% CI eff.samp\n",
              "phylo    0.1992   0.1261   0.3208    25.31\n",
              "\n",
              " R-structure:  ~units\n",
              "\n",
              "      post.mean  l-95% CI u-95% CI eff.samp\n",
              "units  0.003015 0.0008071 0.003397    12.63\n",
              "\n",
              " Location effects: Cumulative_SigElas ~ LHPC.1 * LHPC.2 + ClimPC.1 * ClimPC.2 \n",
              "\n",
              "                   post.mean   l-95% CI   u-95% CI eff.samp  pMCMC  \n",
              "(Intercept)        0.0704309 -0.2822535  0.4034406 10013.76 0.6655  \n",
              "LHPC.1            -0.0109006 -0.0215486  0.0002688   308.29 0.0347 *\n",
              "LHPC.2            -0.0061356 -0.0252131  0.0125140   225.91 0.5129  \n",
              "ClimPC.1           0.0174804 -0.0165294  0.0537493   753.33 0.3224  \n",
              "ClimPC.2           0.0358635  0.0110577  0.0637833   875.68 0.0192 *\n",
              "LHPC.1:LHPC.2      0.0067587 -0.0036021  0.0177519    52.15 0.1509  \n",
              "ClimPC.1:ClimPC.2  0.0141764 -0.0069436  0.0363963   116.92 0.1677  \n",
              "---\n",
              "Signif. codes:  0 ‘***’ 0.001 ‘**’ 0.01 ‘*’ 0.05 ‘.’ 0.1 ‘ ’ 1"
            ]
          },
          "metadata": {},
          "output_type": "display_data"
        }
      ],
      "source": [
        "forms<-lapply(\n",
        "  lapply(\n",
        "    list(All_null,Clim_null,\n",
        "         Clim1,Clim2,Clim3,\n",
        "         Clim123,\n",
        "         Clim12,Clim13,Clim23,\n",
        "         Clim123_plus,Clim12_plus,\n",
        "         Clim12_plus_only,\n",
        "         Clim123_allint,Clim123_allint),formula),\n",
        "          function(f) paste(deparse(formula(f)), collapse = \"\"))%>%do.call(rbind,.)\n",
        "\n",
        "mod_out<-cbind(formulas=forms,\n",
        "  BIC(All_null,Clim_null,Clim1,Clim2,Clim3,Clim123,Clim12,Clim13,Clim23,Clim123_plus,Clim12_plus,Clim12_plus_only,Clim123_allint,Clim12_allint),\n",
        "  AIC=AIC(All_null,Clim_null,Clim1,Clim2,Clim3,Clim123,Clim12,Clim13,Clim23,Clim123_plus,Clim12_plus,Clim12_plus_only,Clim123_allint,Clim12_allint)[,2],\n",
        "  DIC=DIC(All_null,Clim_null,Clim1,Clim2,Clim3,Clim123,Clim12,Clim13,Clim2,Clim123_plus,Clim12_plus,Clim12_plus_only,Clim123_allint,Clim12_allint)[,2])%>%\n",
        "  arrange(DIC)\n",
        "\n",
        "mod_out\n",
        "\n",
        "\n",
        "Clim12%>%summary()\n",
        "\n",
        "\n",
        "# Compare some models if necessary\n",
        "#summary(Clim123)\n",
        "#summary(Clim123_plus)\n",
        "#summary(Clim12_plus)\n",
        "#summary(Clim1)\n",
        "#summary(Clim12)\n",
        "#summary(Clim13)\n"
      ]
    },
    {
      "cell_type": "code",
      "execution_count": 21,
      "metadata": {
        "colab": {
          "base_uri": "https://localhost:8080/",
          "height": 437
        },
        "id": "XujycM50_1J1",
        "outputId": "a01b01e9-aed7-49ed-9e3c-d792d1638fad"
      },
      "outputs": [
        {
          "data": {
            "image/png": "[encoded data removed]",
            "text/plain": [
              "plot without title"
            ]
          },
          "metadata": {
            "image/png": {
              "height": 420,
              "width": 420
            }
          },
          "output_type": "display_data"
        }
      ],
      "source": [
        "allChains <- mcmcr::as.mcmc(cbind(Clim12$Sol,Clim12$VCV))\n",
        "plotMCMC::plotTrace(allChains)"
      ]
    }
  ],
  "metadata": {
    "accelerator": "TPU",
    "colab": {
      "gpuType": "V28",
      "provenance": []
    },
    "kernelspec": {
      "display_name": "R",
      "name": "ir"
    },
    "language_info": {
      "name": "r"
    }
  },
  "nbformat": 4,
  "nbformat_minor": 0
}
