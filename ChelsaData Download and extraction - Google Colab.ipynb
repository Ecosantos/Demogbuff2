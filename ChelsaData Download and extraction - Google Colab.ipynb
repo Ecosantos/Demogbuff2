{
  "cells": [
    {
      "cell_type": "code",
      "execution_count": null,
      "metadata": {
        "colab": {
          "base_uri": "https://localhost:8080/"
        },
        "id": "bD7KeyQy7b7Q",
        "outputId": "a2cc7683-afd9-4d36-8229-9c8483da88ac"
      },
      "outputs": [
        {
          "output_type": "stream",
          "name": "stderr",
          "text": [
            "Installing package into ‘/usr/local/lib/R/site-library’\n",
            "(as ‘lib’ is unspecified)\n",
            "\n"
          ]
        }
      ],
      "source": [
        "rm(list=ls())\n",
        "install.packages(\"tidyverse\"); library(tidyverse)\n",
        "install.packages(\"terra\"); library(terra)\n",
        "install.packages(\"openxlsx\");library(openxlsx)"
      ]
    },
    {
      "cell_type": "markdown",
      "metadata": {
        "id": "IoPRa8CIaR78"
      },
      "source": [
        "###### Creates directory structure"
      ]
    },
    {
      "cell_type": "code",
      "execution_count": null,
      "metadata": {
        "id": "h3jpJaxIZpMN"
      },
      "outputs": [],
      "source": [
        "\n",
        "dir.create(file.path(\"Data\"), showWarnings = FALSE) # Will return warning message if folder already exists\n",
        "dir.create(file.path(\"Data/ChelsacrutsData\"), showWarnings = FALSE)\n",
        "dir.create(file.path(\"Data/ChelsacrutsData/Tmax\"), showWarnings = TRUE)\n",
        "dir.create(file.path(\"Data/ChelsacrutsData/Tmin\"), showWarnings = FALSE)\n",
        "dir.create(file.path(\"Data/ChelsacrutsData/Prec\"), showWarnings = FALSE)"
      ]
    },
    {
      "cell_type": "code",
      "execution_count": null,
      "metadata": {
        "collapsed": true,
        "id": "EJWdlCOmaF-D"
      },
      "outputs": [],
      "source": [
        "# LOAD POPULATION TO HAVE DATA EXTRACTED\n",
        "linkMetadata<- \"https://github.com/Ecosantos/Demogbuff-pops/raw/refs/heads/main/Data/CleanData.RDS\"\n",
        "CleanData<- readRDS(url(linkMetadata, method=\"libcurl\"))\n",
        "\n",
        "\n",
        "Metadata<-CleanData$Metadata\n",
        "MetadataClean<-CleanData$MetadataClean\n",
        "\n",
        "#Reduce (more) data to improve redability\n",
        "MetadataFinal<-MetadataClean%>%select(-c(lambda,Ecoregion,Binomial))\n",
        "\n",
        "MetadataFinal<-MetadataFinal%>%\n",
        "  left_join(.,\n",
        "            Metadata%>%select(ID,StudyStart, StudyDuration, StudyEnd)%>%distinct(),\n",
        "            by=\"ID\")\n",
        "\n",
        "\n",
        "ClimaticData<-Metadata%>%\n",
        "  dplyr::select(ID,Lat,Lon,SpeciesAccepted,StudyStart,StudyEnd)%>%\n",
        "  distinct(ID,.keep_all=TRUE)%>%\n",
        "  filter(!is.na(Lat)&  between(Lat, -90, 90))%>%\n",
        "  filter(!is.na(Lon) &  between(Lon, -180, 180))\n",
        "\n",
        "ClimaticData%>%\n",
        "  arrange(Lon)\n",
        "\n",
        "#Hlcn.72_716  - Exemplo do brasil +-20ºC\n",
        "\n",
        "ClimaticData<-ClimaticData%>%\n",
        "  #filter(SpeciesAccepted==\"Clinocottus analis\")%>%\n",
        "  mutate(Lat=case_when(\n",
        "    SpeciesAccepted==\"Clinocottus analis\" ~ \t32.82162,\n",
        "    SpeciesAccepted==\"Ursus maritimus\" ~    \t69.35431,\n",
        "    SpeciesAccepted==\"Nephtys incisa\" ~     \t41.26105,\n",
        "    SpeciesAccepted==\"Amphimedon compressa\" ~ 21.09022,\n",
        "    TRUE~Lat),\n",
        "    Lon=case_when(\n",
        "      SpeciesAccepted==\"Clinocottus analis\" ~  -117.27783,\n",
        "      SpeciesAccepted==\"Ursus maritimus\" ~     -135.44041,\n",
        "      SpeciesAccepted==\"Nephtys incisa\" ~      -72.879102,\n",
        "      SpeciesAccepted==\"Amphimedon compressa\" ~ 70.792523,\n",
        "      TRUE~Lon))\n",
        "\n",
        "\n",
        "\n",
        "#=====================================================================================================\n",
        "# LOAD A SAMPLING\n",
        "#=====================================================================================================\n",
        "sample_link<-\"https://os.zhdk.cloud.switch.ch/chelsav1/chelsa_cruts/tmin/CHELSAcruts_tmin_9_1990_V.1.0.tif\"\n",
        "download.file(sample_link,destfile = \"Data/ChelsacrutsData/Chelsa sample.tif\",mode=\"wb\")\n",
        "\n",
        "sampleraster<-terra::rast(\"Data/ChelsacrutsData/Chelsa sample.tif\")\n",
        "\n",
        "Data_point<-terra::vect(data.frame(ClimaticData[,c(1,3,2)]), geom=c(\"Lon\", \"Lat\"), crs=crs(sampleraster), keepgeom=TRUE)\n",
        "Data_point<-terra::project(Data_point, crs(sampleraster))\n",
        "\n",
        "\n",
        "\n",
        "#=====================================================================================================\n",
        "# Check extraction\n",
        "#=====================================================================================================\n",
        "\n",
        "Data_point_example<-terra::extract(sampleraster, Data_point, na.rm=TRUE,bind=T)\n",
        "\n",
        "\n",
        "#Fix population ID\n",
        "Climate_dataID<-data.frame(\n",
        "  ID=Data_point_example$ID,\n",
        "  IDindex=terra::extract(sampleraster, Data_point, na.rm=TRUE,bind=F)[,1])\n",
        "\n",
        "\n",
        "# Once checked, remove file to avoid problems with GITHUB\n",
        "# Github doesn't work well with files close to 100mb in a standard account\n",
        "file.remove(\"Data/ChelsacrutsData/Chelsa sample.tif\")\n",
        "\n",
        "#=====================================================================================================\n",
        "# CLIMATIC DATA\n",
        "#=====================================================================================================\n",
        "LinksChelsa<-\"https://github.com/Ecosantos/Demogbuff-pops/raw/refs/heads/IntegratingGoogleCollab/Data/ChelsacrutsData/ChelsacrutsDataV2.xlsx\"\n",
        "\n",
        "\n",
        "# LOAD LIST OF CLIMATIC DATA TO BE EXTRACTED\n",
        "Tmin<- openxlsx::read.xlsx(xlsxFile = LinksChelsa, sheet = \"Tmin\", colNames = TRUE,skipEmptyRows = FALSE)\n",
        "Tmax<- openxlsx::read.xlsx(xlsxFile = LinksChelsa, sheet = \"Tmax\", colNames = TRUE,skipEmptyRows = FALSE)\n",
        "Prec<- openxlsx::read.xlsx(xlsxFile = LinksChelsa, sheet = \"Preciptation\", colNames = TRUE,skipEmptyRows = FALSE)\n",
        "\n",
        "\n",
        "\n",
        "Tmin_df<-Tmin%>%\n",
        "  mutate(param=gsub(Link, pattern=\".*/CHELSAcruts_tmin_\", replace=\"\\\\\"))%>%\n",
        "  mutate(Month=str_split(param, \"_\", n = 3, simplify = TRUE)[,1])%>%\n",
        "  mutate(Year=str_split(param, \"_\", n = 3, simplify = TRUE)[,2])\n",
        "\n",
        "Tmax_df<-Tmax%>%\n",
        "  mutate(param=gsub(Link, pattern=\".*/CHELSAcruts_tmax_\", replace=\"\\\\\"))%>%\n",
        "  mutate(Month=str_split(param, \"_\", n = 3, simplify = TRUE)[,1])%>%\n",
        "  mutate(Year=str_split(param, \"_\", n = 3, simplify = TRUE)[,2])\n",
        "\n",
        "Prec_df<-Prec%>%\n",
        "  mutate(param=gsub(Link, pattern=\".*/CHELSAcruts_prec_\", replace=\"\\\\\"))%>%\n",
        "  mutate(Month=str_split(param, \"_\", n = 3, simplify = TRUE)[,1])%>%\n",
        "  mutate(Year=str_split(param, \"_\", n = 3, simplify = TRUE)[,2])\n",
        "\n",
        "#---------------------------------------------------------------------------\n",
        "# Create data frames to receive extracted information\n",
        "#---------------------------------------------------------------------------\n",
        "\n",
        "Prec_df_out<-Tmax_df_out<-Tmin_df_out<-data.frame(matrix(NA, ncol=length(Data_point), nrow=dim(Tmin_df)[1]))\n",
        "chelsarast<-NULL\n",
        "destfile<-NULL"
      ]
    },
    {
      "cell_type": "code",
      "execution_count": null,
      "metadata": {
        "id": "MnTU7cvH-2M8"
      },
      "outputs": [],
      "source": [
        "#---------------------------------------------------------------------------\n",
        "# MINIMUM TEMPERATURE\n",
        "#---------------------------------------------------------------------------\n",
        "\n",
        "for( i in 1:dim(Tmin_df)[1]){\n",
        "  #Determine a name for raster file\n",
        "  destfile = paste0(\"Data/ChelsacrutsData/Tmin/CHELSA_tmin_m\",\n",
        "                    Tmin_df$Month[i],\"y\",Tmin_df$Year[i],\".tif\")\n",
        "  #Download raster\n",
        "  download.file(Tmin_df$Link[i],destfile,mode=\"wb\")\n",
        "  #Routine\n",
        "  chelsarast<-terra::rast(destfile)# Open raster\n",
        "  Tmin_df_out[i,]<-terra::extract(chelsarast, Data_point, na.rm=TRUE)[,2] #Extract values\n",
        "  #Delete raster\n",
        "  file.remove(destfile)\n",
        "if (i %% 100 == 0) {\n",
        "    print(i)\n",
        "  }}\n",
        "\n",
        "colnames(Tmin_df_out)<-Climate_dataID$ID\n",
        "Tmin_df_out<-cbind(Tmin_df[,2:4],Tmin_df_out) #Merge climatic parameters information\n",
        "saveRDS(Tmin_df_out,file=\"Data/ChelsacrutsData/MinTemperatureChelsa.rds\")\n"
      ]
    },
    {
      "cell_type": "code",
      "execution_count": null,
      "metadata": {
        "id": "iIMOUtLVApXH"
      },
      "outputs": [],
      "source": [
        "#----------------------------------------------------------------------------------------\n",
        "# Tmax\n",
        "#----------------------------------------------------------------------------------------\n",
        "\n",
        "chelsarast<-destfile<-NULL\n",
        "\n",
        "for( i in 1:dim(Tmax_df)[1]){\n",
        "  #Determine a name for raster file\n",
        "  destfile = paste0(\"Data/ChelsacrutsData/CHELSA_tmax_m\",\n",
        "                    Tmax_df$Month[i],\"y\",Tmax_df$Year[i],\".tif\")\n",
        "  #Download raster\n",
        "  download.file(    Tmax_df$Link[i],destfile,mode=\"wb\")\n",
        "  #Routine\n",
        "    chelsarast<-terra::rast(destfile)# Open raster\n",
        "    Tmax_df_out[i,]<-terra::extract(chelsarast, Data_point, na.rm=TRUE)[,2] #Extract values\n",
        "  #Delete raster\n",
        "  file.remove(destfile)\n",
        "if (i %% 100 == 0) {\n",
        "    print(i)\n",
        "  }}\n",
        "\n",
        "colnames(Tmax_df_out)<-Climate_dataID$ID\n",
        "Tmax_df_out<-cbind(Tmax_df[,2:4],Tmax_df_out) #Merge climatic parameters information\n",
        "saveRDS(Tmax_df_out,file=\"Data/ChelsacrutsData/MaxTemperatureChelsa.rds\")\n"
      ]
    },
    {
      "cell_type": "code",
      "execution_count": null,
      "metadata": {
        "id": "_7cY1GYEHZB_"
      },
      "outputs": [],
      "source": [
        "#----------------------------------------------------------------------------------------\n",
        "# Preciptation\n",
        "#----------------------------------------------------------------------------------------\n",
        "chelsarast<-destfile<-NULL\n",
        "\n",
        "for( i in 1:dim(Prec_df)[1]){\n",
        "  #Determine a name for raster file\n",
        "  destfile = paste0(\"Data/ChelsacrutsData/CHELSA_prec_m\",\n",
        "                    Prec_df$Month[i],\"y\",Prec_df$Year[i],\".tif\")\n",
        "  #Download raster\n",
        "  download.file(    Prec_df$Link[i],destfile,mode=\"wb\")\n",
        "  #Routine\n",
        "  chelsarast<-terra::rast(destfile)# Open raster\n",
        "  Prec_df_out[i,]<-terra::extract(chelsarast, Data_point, na.rm=TRUE)[,2] #Extract values\n",
        "  #Delete raster\n",
        "  file.remove(destfile)\n",
        "if (i %% 100 == 0) {\n",
        "    print(i)\n",
        "  }}\n",
        "\n",
        "colnames(Prec_df_out)<-Climate_dataID$ID\n",
        "Prec_df_out<-cbind(Prec_df[,2:4],Prec_df_out) #Merge climatic parameters information\n",
        "saveRDS(Prec_df_out,file=\"Data/ChelsacrutsData/PrecChelsa.rds\")\n"
      ]
    }
  ],
  "metadata": {
    "colab": {
      "provenance": []
    },
    "kernelspec": {
      "display_name": "R",
      "name": "ir"
    },
    "language_info": {
      "name": "R"
    }
  },
  "nbformat": 4,
  "nbformat_minor": 0
}